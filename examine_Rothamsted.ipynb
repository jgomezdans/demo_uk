{
 "cells": [
  {
   "cell_type": "markdown",
   "metadata": {},
   "source": [
    "<p><img src=\"https://github.com/profLewis/Geog2021_Coursework/blob/master/images/ucl_logo.png?raw=true\" align=\"left\" \\><img src=\"./img_logo_purple.svg\" align=\"right\" /></p>\n",
    "\n",
    "# Quick visualisation and analysis of Sentinel 2 data over Rothamsted\n",
    "### J Gómez-Dans (NCEO & UCL)\n",
    "\n",
    "This notebook presents a quick way to extract and analyse data from Sentinel 2. This is just a demo that highlights a limited regional extent around Rothamsted, but this could be extended to other areas.\n",
    "\n",
    "Note that all the data is being accessed remotely, so it can take a little while for the code to complete. However, note that you are only downloading the bits that you require to process your data! It's around 150Gb of raw data that needs downloading and processing!\n"
   ]
  },
  {
   "cell_type": "code",
   "execution_count": 1,
   "metadata": {
    "ExecuteTime": {
     "end_time": "2019-06-06T17:36:23.861321Z",
     "start_time": "2019-06-06T17:36:20.174188Z"
    }
   },
   "outputs": [
    {
     "name": "stdout",
     "output_type": "stream",
     "text": [
      "First acquisition: 05 Jan 2018\n",
      "Last acquisition: 20 Dec 2018\n",
      "Total number of acquisitions: 97, although there might be clouds!\n"
     ]
    },
    {
     "name": "stderr",
     "output_type": "stream",
     "text": [
      "/home/ucfajlg/miniconda3/envs/python3/lib/python3.6/site-packages/tqdm/autonotebook/__init__.py:14: TqdmExperimentalWarning: Using `tqdm.autonotebook.tqdm` in notebook mode. Use `tqdm.tqdm` instead to force console mode (e.g. in jupyter console)\n",
      "  \" (e.g. in jupyter console)\", TqdmExperimentalWarning)\n"
     ]
    }
   ],
   "source": [
    "import datetime as dt\n",
    "import json\n",
    "\n",
    "import numpy as np\n",
    "\n",
    "import matplotlib.pyplot as plt\n",
    "\n",
    "from matplotlib.colors import LogNorm\n",
    "\n",
    "from ipyleaflet import Map, GeoJSON, basemaps, basemap_to_tiles\n",
    "\n",
    "\n",
    "\n",
    "%matplotlib inline\n",
    "\n",
    "import gdal\n",
    "gdal.UseExceptions()\n",
    "\n",
    "from utils import grab_holdings, extract_roi_data_ndre, extract_roi_data_band\n",
    "from do_plots import interactive_field_analysis\n",
    "\n",
    "img_db = grab_holdings(\n",
    "    url=\"http://www2.geog.ucl.ac.uk/~ucfajlg/Rothamsted/database.db\")\n",
    "print(f\"First acquisition: {list(img_db.keys())[0].strftime('%d %b %Y'):s}\")\n",
    "print(f\"Last acquisition: {list(img_db.keys())[-1].strftime('%d %b %Y'):s}\")\n",
    "print(f\"Total number of acquisitions: {len(img_db.keys()):d}, \"\n",
    "      \"although there might be clouds!\")"
   ]
  },
  {
   "cell_type": "markdown",
   "metadata": {},
   "source": [
    "The previous cell has obtained a listing of all the dates in which we have data available remotely. The data covers the entire tile that contains the Rothamsted region of interest, and we have nearly all the Sentinel 2 acquisitions from 2018 (there are quite a few!). Suppose that you want to analyse the S2 data over some fields around Rothamsted Research. This is a map showing the fields (60 in total):"
   ]
  },
  {
   "cell_type": "code",
   "execution_count": 2,
   "metadata": {
    "ExecuteTime": {
     "end_time": "2019-06-06T17:36:24.563089Z",
     "start_time": "2019-06-06T17:36:23.867323Z"
    }
   },
   "outputs": [
    {
     "data": {
      "application/vnd.jupyter.widget-view+json": {
       "model_id": "04b09663e3774e60bc0449e1d399eedf",
       "version_major": 2,
       "version_minor": 0
      },
      "text/plain": [
       "Map(basemap={'url': 'https://{s}.tile.openstreetmap.org/{z}/{x}/{y}.png', 'max_zoom': 19, 'attribution': 'Map …"
      ]
     },
     "metadata": {},
     "output_type": "display_data"
    }
   ],
   "source": [
    "with open('carto/Rothamsted_polys.geojson', 'r') as f:\n",
    "    loc_data = json.load(f)\n",
    "\n",
    "m = Map(\n",
    "    center=(51.81, -0.37),\n",
    "    zoom=14,\n",
    ")\n",
    "geo_json = GeoJSON(\n",
    "    data=loc_data,\n",
    "    style={\n",
    "        'color': 'red',\n",
    "        'opacity': 1,\n",
    "        'weight': 1.9,\n",
    "        'fillOpacity': 0.1\n",
    "    })\n",
    "m.add_layer(geo_json)\n",
    "m"
   ]
  },
  {
   "cell_type": "markdown",
   "metadata": {},
   "source": [
    "We can just extract data over one of the fields. Perhaps the simplest thing is to extract some dodgy vegetation index, like NDVI or some of the red edge VIs... \n",
    "\n",
    "You may want to plot images, or maybe plot a time series with the distribution of the index within one field. The next cell when run will:\n",
    "\n",
    "1. Provide an interactive way of choosing one of the fields by number/name\n",
    "2. Allow you to set up some bands"
   ]
  },
  {
   "cell_type": "code",
   "execution_count": 3,
   "metadata": {
    "ExecuteTime": {
     "end_time": "2019-06-06T17:36:24.642052Z",
     "start_time": "2019-06-06T17:36:24.566422Z"
    },
    "scrolled": false
   },
   "outputs": [
    {
     "data": {
      "application/vnd.jupyter.widget-view+json": {
       "model_id": "153683d526a64a5e8fabc78c38af754a",
       "version_major": 2,
       "version_minor": 0
      },
      "text/plain": [
       "interactive(children=(Dropdown(description='field_id', options=('01 - Hoosfield', '02 - Bones_Colose', '03 - D…"
      ]
     },
     "metadata": {},
     "output_type": "display_data"
    }
   ],
   "source": [
    "interactive_field_analysis(img_db);"
   ]
  },
  {
   "cell_type": "code",
   "execution_count": null,
   "metadata": {},
   "outputs": [],
   "source": []
  }
 ],
 "metadata": {
  "kernelspec": {
   "display_name": "Python 3",
   "language": "python",
   "name": "python3"
  },
  "language_info": {
   "codemirror_mode": {
    "name": "ipython",
    "version": 3
   },
   "file_extension": ".py",
   "mimetype": "text/x-python",
   "name": "python",
   "nbconvert_exporter": "python",
   "pygments_lexer": "ipython3",
   "version": "3.6.6"
  },
  "latex_envs": {
   "LaTeX_envs_menu_present": true,
   "autoclose": false,
   "autocomplete": true,
   "bibliofile": "biblio.bib",
   "cite_by": "apalike",
   "current_citInitial": 1,
   "eqLabelWithNumbers": true,
   "eqNumInitial": 1,
   "hotkeys": {
    "equation": "Ctrl-E",
    "itemize": "Ctrl-I"
   },
   "labels_anchors": false,
   "latex_user_defs": false,
   "report_style_numbering": false,
   "user_envs_cfg": false
  },
  "varInspector": {
   "cols": {
    "lenName": 16,
    "lenType": 16,
    "lenVar": 40
   },
   "kernels_config": {
    "python": {
     "delete_cmd_postfix": "",
     "delete_cmd_prefix": "del ",
     "library": "var_list.py",
     "varRefreshCmd": "print(var_dic_list())"
    },
    "r": {
     "delete_cmd_postfix": ") ",
     "delete_cmd_prefix": "rm(",
     "library": "var_list.r",
     "varRefreshCmd": "cat(var_dic_list()) "
    }
   },
   "types_to_exclude": [
    "module",
    "function",
    "builtin_function_or_method",
    "instance",
    "_Feature"
   ],
   "window_display": false
  }
 },
 "nbformat": 4,
 "nbformat_minor": 2
}
